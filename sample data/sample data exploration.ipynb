{
 "cells": [
  {
   "cell_type": "code",
   "execution_count": 1,
   "metadata": {},
   "outputs": [],
   "source": [
    "import pandas as pd"
   ]
  },
  {
   "cell_type": "markdown",
   "metadata": {},
   "source": [
    "### clean the pages json"
   ]
  },
  {
   "cell_type": "code",
   "execution_count": 2,
   "metadata": {},
   "outputs": [],
   "source": [
    "# the columns in trail_info dataset\n",
    "columns = ['activities', 'area_id', 'area_name', 'avgRating', 'completedCount',\n",
    "       'difficulty', 'duration', 'elevationGain', 'elevationMax',\n",
    "       'elevationStart', 'features', 'length', 'obstacles', 'overview',\n",
    "       'photoCount', 'popularity', 'reviewCount', 'rountType', 'trackCount',\n",
    "       'trailId', 'trail_name', \"longitude\", \"latitude\"]"
   ]
  },
  {
   "cell_type": "code",
   "execution_count": null,
   "metadata": {},
   "outputs": [],
   "source": [
    "p1 = pd.read_json(\"data/page_1.json\", typ = \"series\")"
   ]
  },
  {
   "cell_type": "code",
   "execution_count": null,
   "metadata": {},
   "outputs": [],
   "source": [
    "p1.trails[0].keys()"
   ]
  },
  {
   "cell_type": "code",
   "execution_count": null,
   "metadata": {},
   "outputs": [],
   "source": [
    "p1.trails[0][\"location\"]"
   ]
  },
  {
   "cell_type": "code",
   "execution_count": 3,
   "metadata": {},
   "outputs": [],
   "source": [
    "def decode_trails(raw, packed):\n",
    "    for trail in raw:\n",
    "        new_dict = dict()\n",
    "        \n",
    "        # names and id\n",
    "        if (trail[\"area\"] != None):\n",
    "            new_dict[\"area_id\"] = trail[\"area\"][\"id\"]\n",
    "            new_dict[\"area_name\"] = trail[\"area\"][\"name\"]\n",
    "        else: \n",
    "            new_dict[\"area_id\"] = None\n",
    "            new_dict[\"area_name\"] = None\n",
    "        # deal with attributes\n",
    "        attributes = trail[\"attributes\"]\n",
    "        attr_keys = attributes.keys()\n",
    "        for key in attr_keys:\n",
    "            tmp = []\n",
    "            for i in range(len(attributes[key])):\n",
    "                tmp.append(attributes[key][i][\"name\"])\n",
    "            new_dict[key] = tmp\n",
    "        \n",
    "        new_dict[\"avgRating\"] = trail[\"avgRating\"]\n",
    "        new_dict[\"overview\"] = trail[\"overview\"]\n",
    "        # geo stats\n",
    "        new_dict[\"elevationGain\"] = trail[\"trailGeoStats\"][\"elevationGain\"]\n",
    "        new_dict[\"elevationMax\"] = trail[\"trailGeoStats\"][\"elevationMax\"]\n",
    "        new_dict[\"elevationStart\"] = trail[\"trailGeoStats\"][\"elevationStart\"]\n",
    "        new_dict[\"length\"] = trail[\"trailGeoStats\"][\"length\"]\n",
    "        \n",
    "        new_dict[\"trail_name\"] = trail[\"slug\"]\n",
    "        new_dict[\"popularity\"] = trail[\"popularity\"]\n",
    "        new_dict[\"trailId\"] = trail[\"id\"]\n",
    "        \n",
    "        new_dict[\"latitude\"] = trail[\"location\"][\"latitude\"]\n",
    "        new_dict[\"longitude\"] = trail[\"location\"][\"longitude\"]\n",
    "        \n",
    "        new_dict[\"completedCount\"] = trail[\"trailCounts\"]['completedCount']\n",
    "        new_dict[\"photoCount\"] = trail[\"trailCounts\"]['photoCount']  \n",
    "        new_dict[\"reviewCount\"] = trail[\"trailCounts\"]['reviewCount']\n",
    "        new_dict[\"trackCount\"] = trail[\"trailCounts\"]['trackCount']\n",
    "        \n",
    "        new_dict[\"rountType\"] = trail[\"routeType\"][\"name\"]\n",
    "        new_dict[\"difficulty\"] = trail[\"defaultActivityStats\"][\"difficulty\"]\n",
    "        new_dict[\"duration\"] = trail[\"defaultActivityStats\"][\"duration\"]\n",
    "        \n",
    "        packed.append(new_dict)\n",
    "    return packed"
   ]
  },
  {
   "cell_type": "code",
   "execution_count": 4,
   "metadata": {},
   "outputs": [
    {
     "name": "stdout",
     "output_type": "stream",
     "text": [
      "data/page_1.json\n",
      "data/page_2.json\n",
      "data/page_4.json\n",
      "data/page_5.json\n",
      "data/page_6.json\n",
      "data/page_7.json\n",
      "data/page_10.json\n"
     ]
    }
   ],
   "source": [
    "pages = [1,2,4,5,6,7,10]\n",
    "trail_info =  pd.DataFrame(columns=columns)\n",
    "for page in pages:\n",
    "    filename = \"data/page_\" + str(page) + \".json\"\n",
    "    print(filename)\n",
    "    tmp_data = pd.read_json(filename, typ='series')\n",
    "    tmp_new = []\n",
    "    tmp_new = decode_trails(tmp_data.trails, tmp_new)\n",
    "    tmp_df = pd.DataFrame(tmp_new)\n",
    "    trail_info = trail_info.append(tmp_df)"
   ]
  },
  {
   "cell_type": "code",
   "execution_count": 5,
   "metadata": {},
   "outputs": [],
   "source": [
    "import matplotlib.pyplot as plt"
   ]
  },
  {
   "cell_type": "code",
   "execution_count": 6,
   "metadata": {},
   "outputs": [
    {
     "data": {
      "text/plain": [
       "Text(0.5,0,'difficulty')"
      ]
     },
     "execution_count": 6,
     "metadata": {},
     "output_type": "execute_result"
    },
    {
     "data": {
      "image/png": "[encoded data removed]",
      "text/plain": [
       "<matplotlib.figure.Figure at 0x108c03dd8>"
      ]
     },
     "metadata": {},
     "output_type": "display_data"
    }
   ],
   "source": [
    "plt.bar(trail_info[\"difficulty\"], trail_info[\"popularity\"])\n",
    "plt.ylabel('Popularity')\n",
    "plt.xlabel('difficulty')"
   ]
  },
  {
   "cell_type": "code",
   "execution_count": 7,
   "metadata": {},
   "outputs": [
    {
     "data": {
      "text/plain": [
       "Text(0.5,0,'review counts')"
      ]
     },
     "execution_count": 7,
     "metadata": {},
     "output_type": "execute_result"
    },
    {
     "data": {
      "image/png": "[encoded data removed]",
      "text/plain": [
       "<matplotlib.figure.Figure at 0x108c03d30>"
      ]
     },
     "metadata": {},
     "output_type": "display_data"
    }
   ],
   "source": [
    "plt.scatter(trail_info[\"reviewCount\"], trail_info[\"popularity\"])\n",
    "plt.ylabel('Popularity')\n",
    "plt.xlabel('review counts')"
   ]
  },
  {
   "cell_type": "code",
   "execution_count": 8,
   "metadata": {},
   "outputs": [
    {
     "data": {
      "image/png": "[encoded data removed]",
      "text/plain": [
       "<matplotlib.figure.Figure at 0x108c039e8>"
      ]
     },
     "metadata": {},
     "output_type": "display_data"
    }
   ],
   "source": [
    "num_bins = 5\n",
    "n, bins, patches = plt.hist(trail_info[\"reviewCount\"][1:], num_bins, facecolor='blue')\n",
    "plt.show()"
   ]
  },
  {
   "cell_type": "code",
   "execution_count": 9,
   "metadata": {},
   "outputs": [
    {
     "data": {
      "text/html": [
       "<div>\n",
       "<style>\n",
       "    .dataframe thead tr:only-child th {\n",
       "        text-align: right;\n",
       "    }\n",
       "\n",
       "    .dataframe thead th {\n",
       "        text-align: left;\n",
       "    }\n",
       "\n",
       "    .dataframe tbody tr th {\n",
       "        vertical-align: top;\n",
       "    }\n",
       "</style>\n",
       "<table border=\"1\" class=\"dataframe\">\n",
       "  <thead>\n",
       "    <tr style=\"text-align: right;\">\n",
       "      <th></th>\n",
       "      <th>area_id</th>\n",
       "      <th>avgRating</th>\n",
       "      <th>duration</th>\n",
       "      <th>elevationGain</th>\n",
       "      <th>elevationMax</th>\n",
       "      <th>elevationStart</th>\n",
       "      <th>latitude</th>\n",
       "      <th>length</th>\n",
       "      <th>longitude</th>\n",
       "      <th>popularity</th>\n",
       "    </tr>\n",
       "  </thead>\n",
       "  <tbody>\n",
       "    <tr>\n",
       "      <th>count</th>\n",
       "      <td>1.540000e+02</td>\n",
       "      <td>168.000000</td>\n",
       "      <td>131.000000</td>\n",
       "      <td>168.000000</td>\n",
       "      <td>168.000000</td>\n",
       "      <td>168.000000</td>\n",
       "      <td>168.000000</td>\n",
       "      <td>168.00000</td>\n",
       "      <td>168.000000</td>\n",
       "      <td>168.000000</td>\n",
       "    </tr>\n",
       "    <tr>\n",
       "      <th>mean</th>\n",
       "      <td>1.012918e+07</td>\n",
       "      <td>4.339286</td>\n",
       "      <td>12086.106870</td>\n",
       "      <td>407.916743</td>\n",
       "      <td>614.092171</td>\n",
       "      <td>329.136829</td>\n",
       "      <td>42.646481</td>\n",
       "      <td>9252.74706</td>\n",
       "      <td>-74.469389</td>\n",
       "      <td>19.680755</td>\n",
       "    </tr>\n",
       "    <tr>\n",
       "      <th>std</th>\n",
       "      <td>1.927577e+04</td>\n",
       "      <td>0.301302</td>\n",
       "      <td>7887.335084</td>\n",
       "      <td>386.322116</td>\n",
       "      <td>441.664459</td>\n",
       "      <td>224.239529</td>\n",
       "      <td>1.173407</td>\n",
       "      <td>6738.43100</td>\n",
       "      <td>1.188032</td>\n",
       "      <td>7.859310</td>\n",
       "    </tr>\n",
       "    <tr>\n",
       "      <th>min</th>\n",
       "      <td>1.011339e+07</td>\n",
       "      <td>3.500000</td>\n",
       "      <td>900.000000</td>\n",
       "      <td>0.914400</td>\n",
       "      <td>36.880800</td>\n",
       "      <td>0.914400</td>\n",
       "      <td>40.708420</td>\n",
       "      <td>321.86800</td>\n",
       "      <td>-78.551000</td>\n",
       "      <td>12.210500</td>\n",
       "    </tr>\n",
       "    <tr>\n",
       "      <th>25%</th>\n",
       "      <td>1.011692e+07</td>\n",
       "      <td>4.000000</td>\n",
       "      <td>7200.000000</td>\n",
       "      <td>118.110000</td>\n",
       "      <td>296.189400</td>\n",
       "      <td>126.568200</td>\n",
       "      <td>41.483850</td>\n",
       "      <td>4184.28400</td>\n",
       "      <td>-74.371860</td>\n",
       "      <td>15.031600</td>\n",
       "    </tr>\n",
       "    <tr>\n",
       "      <th>50%</th>\n",
       "      <td>1.011794e+07</td>\n",
       "      <td>4.500000</td>\n",
       "      <td>10800.000000</td>\n",
       "      <td>289.407600</td>\n",
       "      <td>433.425600</td>\n",
       "      <td>319.735200</td>\n",
       "      <td>42.588035</td>\n",
       "      <td>7644.36500</td>\n",
       "      <td>-74.022175</td>\n",
       "      <td>16.569500</td>\n",
       "    </tr>\n",
       "    <tr>\n",
       "      <th>75%</th>\n",
       "      <td>1.015680e+07</td>\n",
       "      <td>4.500000</td>\n",
       "      <td>16200.000000</td>\n",
       "      <td>581.253600</td>\n",
       "      <td>886.510800</td>\n",
       "      <td>528.142200</td>\n",
       "      <td>43.766567</td>\n",
       "      <td>11466.54750</td>\n",
       "      <td>-73.841093</td>\n",
       "      <td>23.161550</td>\n",
       "    </tr>\n",
       "    <tr>\n",
       "      <th>max</th>\n",
       "      <td>1.016338e+07</td>\n",
       "      <td>5.000000</td>\n",
       "      <td>43200.000000</td>\n",
       "      <td>2673.705600</td>\n",
       "      <td>1625.803200</td>\n",
       "      <td>784.860000</td>\n",
       "      <td>44.723660</td>\n",
       "      <td>34922.67800</td>\n",
       "      <td>-73.014960</td>\n",
       "      <td>60.831000</td>\n",
       "    </tr>\n",
       "  </tbody>\n",
       "</table>\n",
       "</div>"
      ],
      "text/plain": [
       "            area_id   avgRating      duration  elevationGain  elevationMax  \\\n",
       "count  1.540000e+02  168.000000    131.000000     168.000000    168.000000   \n",
       "mean   1.012918e+07    4.339286  12086.106870     407.916743    614.092171   \n",
       "std    1.927577e+04    0.301302   7887.335084     386.322116    441.664459   \n",
       "min    1.011339e+07    3.500000    900.000000       0.914400     36.880800   \n",
       "25%    1.011692e+07    4.000000   7200.000000     118.110000    296.189400   \n",
       "50%    1.011794e+07    4.500000  10800.000000     289.407600    433.425600   \n",
       "75%    1.015680e+07    4.500000  16200.000000     581.253600    886.510800   \n",
       "max    1.016338e+07    5.000000  43200.000000    2673.705600   1625.803200   \n",
       "\n",
       "       elevationStart    latitude       length   longitude  popularity  \n",
       "count      168.000000  168.000000    168.00000  168.000000  168.000000  \n",
       "mean       329.136829   42.646481   9252.74706  -74.469389   19.680755  \n",
       "std        224.239529    1.173407   6738.43100    1.188032    7.859310  \n",
       "min          0.914400   40.708420    321.86800  -78.551000   12.210500  \n",
       "25%        126.568200   41.483850   4184.28400  -74.371860   15.031600  \n",
       "50%        319.735200   42.588035   7644.36500  -74.022175   16.569500  \n",
       "75%        528.142200   43.766567  11466.54750  -73.841093   23.161550  \n",
       "max        784.860000   44.723660  34922.67800  -73.014960   60.831000  "
      ]
     },
     "execution_count": 9,
     "metadata": {},
     "output_type": "execute_result"
    }
   ],
   "source": [
    "trail_info.describe()"
   ]
  },
  {
   "cell_type": "code",
   "execution_count": 21,
   "metadata": {},
   "outputs": [],
   "source": [
    "# correlation matrix\n",
    "import seaborn as sns"
   ]
  },
  {
   "cell_type": "code",
   "execution_count": 22,
   "metadata": {},
   "outputs": [
    {
     "data": {
      "text/plain": [
       "<matplotlib.axes._subplots.AxesSubplot at 0x110193710>"
      ]
     },
     "execution_count": 22,
     "metadata": {},
     "output_type": "execute_result"
    },
    {
     "data": {
      "image/png": "[encoded data removed]",
      "text/plain": [
       "<matplotlib.figure.Figure at 0x1101d8160>"
      ]
     },
     "metadata": {},
     "output_type": "display_data"
    }
   ],
   "source": [
    "corr_cols = ['avgRating', 'completedCount',\n",
    "       'difficulty', 'duration', 'elevationGain', 'elevationMax',\n",
    "       'elevationStart',  'length',\n",
    "       'photoCount', 'popularity', 'reviewCount', 'trackCount']\n",
    "corr = trail_info[corr_cols].corr()\n",
    "sns.heatmap(corr, \n",
    "            xticklabels=corr.columns.values,\n",
    "            yticklabels=corr.columns.values,\n",
    "            cmap=\"YlGnBu\")"
   ]
  },
  {
   "cell_type": "markdown",
   "metadata": {},
   "source": [
    "### clean the reviews dataset "
   ]
  },
  {
   "cell_type": "code",
   "execution_count": 12,
   "metadata": {},
   "outputs": [],
   "source": [
    "reviews = pd.read_json(\"data/review.json\", typ = 'series')"
   ]
  },
  {
   "cell_type": "code",
   "execution_count": 13,
   "metadata": {},
   "outputs": [
    {
     "data": {
      "text/plain": [
       "dict_keys(['date', 'comment', 'weather', 'trailAvgRating', 'conditions', 'difficulty', 'associatedRecording', 'trailId', 'metadata', 'id', 'activity', 'duration', 'rating', 'length', 'visitorUsage', 'user'])"
      ]
     },
     "execution_count": 13,
     "metadata": {},
     "output_type": "execute_result"
    }
   ],
   "source": [
    "reviews.trail_reviews[0].keys()"
   ]
  },
  {
   "cell_type": "code",
   "execution_count": 14,
   "metadata": {},
   "outputs": [
    {
     "data": {
      "text/plain": [
       "'2018-02-27T00:00:00Z'"
      ]
     },
     "execution_count": 14,
     "metadata": {},
     "output_type": "execute_result"
    }
   ],
   "source": [
    "reviews.trail_reviews[2][\"date\"]"
   ]
  },
  {
   "cell_type": "code",
   "execution_count": 15,
   "metadata": {},
   "outputs": [],
   "source": [
    "review_clean = []\n",
    "for review in reviews.trail_reviews:\n",
    "    new_dict = dict()\n",
    "    new_dict[\"date\"] = review[\"date\"]\n",
    "    new_dict[\"comment\"] = review[\"comment\"]\n",
    "    new_dict[\"review_rating\"] = review[\"rating\"]\n",
    "    new_dict[\"trailId\"] = review[\"trailId\"]\n",
    "    review_clean.append(new_dict)"
   ]
  },
  {
   "cell_type": "code",
   "execution_count": 16,
   "metadata": {},
   "outputs": [],
   "source": [
    "review_clean = pd.DataFrame(review_clean)"
   ]
  },
  {
   "cell_type": "code",
   "execution_count": 17,
   "metadata": {},
   "outputs": [
    {
     "data": {
      "text/html": [
       "<div>\n",
       "<style>\n",
       "    .dataframe thead tr:only-child th {\n",
       "        text-align: right;\n",
       "    }\n",
       "\n",
       "    .dataframe thead th {\n",
       "        text-align: left;\n",
       "    }\n",
       "\n",
       "    .dataframe tbody tr th {\n",
       "        vertical-align: top;\n",
       "    }\n",
       "</style>\n",
       "<table border=\"1\" class=\"dataframe\">\n",
       "  <thead>\n",
       "    <tr style=\"text-align: right;\">\n",
       "      <th></th>\n",
       "      <th>comment</th>\n",
       "      <th>date</th>\n",
       "      <th>review_rating</th>\n",
       "      <th>trailId</th>\n",
       "    </tr>\n",
       "  </thead>\n",
       "  <tbody>\n",
       "    <tr>\n",
       "      <th>0</th>\n",
       "      <td>Incredible hike! A little chilly with some bru...</td>\n",
       "      <td>2018-03-17T00:00:00Z</td>\n",
       "      <td>5</td>\n",
       "      <td>10029098</td>\n",
       "    </tr>\n",
       "    <tr>\n",
       "      <th>1</th>\n",
       "      <td>Hard but rewarding. We didn’t even finish this...</td>\n",
       "      <td>2018-03-01T00:00:00Z</td>\n",
       "      <td>5</td>\n",
       "      <td>10029098</td>\n",
       "    </tr>\n",
       "    <tr>\n",
       "      <th>2</th>\n",
       "      <td>Some pretty good climbing</td>\n",
       "      <td>2018-02-27T00:00:00Z</td>\n",
       "      <td>5</td>\n",
       "      <td>10029098</td>\n",
       "    </tr>\n",
       "    <tr>\n",
       "      <th>3</th>\n",
       "      <td>Amazing day!  A little tough for the kids, but...</td>\n",
       "      <td>2018-02-20T00:00:00Z</td>\n",
       "      <td>5</td>\n",
       "      <td>10029098</td>\n",
       "    </tr>\n",
       "    <tr>\n",
       "      <th>4</th>\n",
       "      <td>First time there, won’t be my last!! Pretty ha...</td>\n",
       "      <td>2018-02-19T00:00:00Z</td>\n",
       "      <td>5</td>\n",
       "      <td>10029098</td>\n",
       "    </tr>\n",
       "    <tr>\n",
       "      <th>5</th>\n",
       "      <td>Great scramble to start, then it eases up. I l...</td>\n",
       "      <td>2018-02-19T00:00:00Z</td>\n",
       "      <td>5</td>\n",
       "      <td>10029098</td>\n",
       "    </tr>\n",
       "    <tr>\n",
       "      <th>6</th>\n",
       "      <td>Love this hike❤</td>\n",
       "      <td>None</td>\n",
       "      <td>5</td>\n",
       "      <td>10029098</td>\n",
       "    </tr>\n",
       "    <tr>\n",
       "      <th>7</th>\n",
       "      <td>Climb is great but the trail is crowded, litte...</td>\n",
       "      <td>2018-01-29T00:00:00Z</td>\n",
       "      <td>3</td>\n",
       "      <td>10029098</td>\n",
       "    </tr>\n",
       "    <tr>\n",
       "      <th>8</th>\n",
       "      <td>Scramble is an understatement</td>\n",
       "      <td>2018-01-28T00:00:00Z</td>\n",
       "      <td>5</td>\n",
       "      <td>10029098</td>\n",
       "    </tr>\n",
       "    <tr>\n",
       "      <th>9</th>\n",
       "      <td>Fun scramble. Not so fun in the ice... slipped...</td>\n",
       "      <td>2018-01-21T00:00:00Z</td>\n",
       "      <td>4</td>\n",
       "      <td>10029098</td>\n",
       "    </tr>\n",
       "    <tr>\n",
       "      <th>10</th>\n",
       "      <td>A great hike, very strenuous and technical, es...</td>\n",
       "      <td>None</td>\n",
       "      <td>4</td>\n",
       "      <td>10029098</td>\n",
       "    </tr>\n",
       "    <tr>\n",
       "      <th>11</th>\n",
       "      <td>If youre looking for a hell of a work out comb...</td>\n",
       "      <td>None</td>\n",
       "      <td>5</td>\n",
       "      <td>10029098</td>\n",
       "    </tr>\n",
       "    <tr>\n",
       "      <th>12</th>\n",
       "      <td>One of the best trail hike and rock climb I co...</td>\n",
       "      <td>2018-01-14T00:00:00Z</td>\n",
       "      <td>5</td>\n",
       "      <td>10029098</td>\n",
       "    </tr>\n",
       "    <tr>\n",
       "      <th>13</th>\n",
       "      <td>Awesome!</td>\n",
       "      <td>2018-01-03T00:00:00Z</td>\n",
       "      <td>4</td>\n",
       "      <td>10029098</td>\n",
       "    </tr>\n",
       "    <tr>\n",
       "      <th>14</th>\n",
       "      <td>Hard in a good way. You have to work for it an...</td>\n",
       "      <td>2017-12-29T00:00:00Z</td>\n",
       "      <td>5</td>\n",
       "      <td>10029098</td>\n",
       "    </tr>\n",
       "    <tr>\n",
       "      <th>15</th>\n",
       "      <td>This was a great, challenging hike.  Plenty of...</td>\n",
       "      <td>2017-10-08T00:00:00Z</td>\n",
       "      <td>5</td>\n",
       "      <td>10029098</td>\n",
       "    </tr>\n",
       "    <tr>\n",
       "      <th>16</th>\n",
       "      <td>Great views of the Hudson.</td>\n",
       "      <td>None</td>\n",
       "      <td>5</td>\n",
       "      <td>10029098</td>\n",
       "    </tr>\n",
       "    <tr>\n",
       "      <th>17</th>\n",
       "      <td>nothing else like it in the area. def the best...</td>\n",
       "      <td>None</td>\n",
       "      <td>5</td>\n",
       "      <td>10029098</td>\n",
       "    </tr>\n",
       "    <tr>\n",
       "      <th>18</th>\n",
       "      <td>love it,definitively not like a walk in the pa...</td>\n",
       "      <td>None</td>\n",
       "      <td>5</td>\n",
       "      <td>10029098</td>\n",
       "    </tr>\n",
       "    <tr>\n",
       "      <th>19</th>\n",
       "      <td>Great, fun hike that is easily accessible via ...</td>\n",
       "      <td>2017-12-10T00:00:00Z</td>\n",
       "      <td>4</td>\n",
       "      <td>10029098</td>\n",
       "    </tr>\n",
       "    <tr>\n",
       "      <th>20</th>\n",
       "      <td>This trail has great views and lookout spots! ...</td>\n",
       "      <td>None</td>\n",
       "      <td>4</td>\n",
       "      <td>10029098</td>\n",
       "    </tr>\n",
       "    <tr>\n",
       "      <th>21</th>\n",
       "      <td>Just the best. Lots of steep scramble, sometim...</td>\n",
       "      <td>2017-11-26T00:00:00Z</td>\n",
       "      <td>5</td>\n",
       "      <td>10029098</td>\n",
       "    </tr>\n",
       "    <tr>\n",
       "      <th>22</th>\n",
       "      <td>Love it!!</td>\n",
       "      <td>2017-11-25T00:00:00Z</td>\n",
       "      <td>5</td>\n",
       "      <td>10029098</td>\n",
       "    </tr>\n",
       "    <tr>\n",
       "      <th>23</th>\n",
       "      <td>Be prepared for an early, fairly rapid initial...</td>\n",
       "      <td>None</td>\n",
       "      <td>4</td>\n",
       "      <td>10029098</td>\n",
       "    </tr>\n",
       "    <tr>\n",
       "      <th>24</th>\n",
       "      <td>Great trail to take with amazing views!</td>\n",
       "      <td>2017-11-19T00:00:00Z</td>\n",
       "      <td>4</td>\n",
       "      <td>10029098</td>\n",
       "    </tr>\n",
       "    <tr>\n",
       "      <th>25</th>\n",
       "      <td>One if the best hikes in the Hudson</td>\n",
       "      <td>2017-11-11T00:00:00Z</td>\n",
       "      <td>5</td>\n",
       "      <td>10029098</td>\n",
       "    </tr>\n",
       "    <tr>\n",
       "      <th>26</th>\n",
       "      <td>Finally tackled the ridge known as Breakneck a...</td>\n",
       "      <td>None</td>\n",
       "      <td>5</td>\n",
       "      <td>10029098</td>\n",
       "    </tr>\n",
       "    <tr>\n",
       "      <th>27</th>\n",
       "      <td>Great trail with amazing views. Can get very c...</td>\n",
       "      <td>2017-11-05T00:00:00Z</td>\n",
       "      <td>5</td>\n",
       "      <td>10029098</td>\n",
       "    </tr>\n",
       "    <tr>\n",
       "      <th>28</th>\n",
       "      <td>Really challenging, especially at the beginnin...</td>\n",
       "      <td>2017-11-05T00:00:00Z</td>\n",
       "      <td>5</td>\n",
       "      <td>10029098</td>\n",
       "    </tr>\n",
       "    <tr>\n",
       "      <th>29</th>\n",
       "      <td>My first hike in NY. So the trail is awesome, ...</td>\n",
       "      <td>2017-11-05T00:00:00Z</td>\n",
       "      <td>4</td>\n",
       "      <td>10029098</td>\n",
       "    </tr>\n",
       "  </tbody>\n",
       "</table>\n",
       "</div>"
      ],
      "text/plain": [
       "                                              comment                  date  \\\n",
       "0   Incredible hike! A little chilly with some bru...  2018-03-17T00:00:00Z   \n",
       "1   Hard but rewarding. We didn’t even finish this...  2018-03-01T00:00:00Z   \n",
       "2                           Some pretty good climbing  2018-02-27T00:00:00Z   \n",
       "3   Amazing day!  A little tough for the kids, but...  2018-02-20T00:00:00Z   \n",
       "4   First time there, won’t be my last!! Pretty ha...  2018-02-19T00:00:00Z   \n",
       "5   Great scramble to start, then it eases up. I l...  2018-02-19T00:00:00Z   \n",
       "6                                     Love this hike❤                  None   \n",
       "7   Climb is great but the trail is crowded, litte...  2018-01-29T00:00:00Z   \n",
       "8                       Scramble is an understatement  2018-01-28T00:00:00Z   \n",
       "9   Fun scramble. Not so fun in the ice... slipped...  2018-01-21T00:00:00Z   \n",
       "10  A great hike, very strenuous and technical, es...                  None   \n",
       "11  If youre looking for a hell of a work out comb...                  None   \n",
       "12  One of the best trail hike and rock climb I co...  2018-01-14T00:00:00Z   \n",
       "13                                           Awesome!  2018-01-03T00:00:00Z   \n",
       "14  Hard in a good way. You have to work for it an...  2017-12-29T00:00:00Z   \n",
       "15  This was a great, challenging hike.  Plenty of...  2017-10-08T00:00:00Z   \n",
       "16                         Great views of the Hudson.                  None   \n",
       "17  nothing else like it in the area. def the best...                  None   \n",
       "18  love it,definitively not like a walk in the pa...                  None   \n",
       "19  Great, fun hike that is easily accessible via ...  2017-12-10T00:00:00Z   \n",
       "20  This trail has great views and lookout spots! ...                  None   \n",
       "21  Just the best. Lots of steep scramble, sometim...  2017-11-26T00:00:00Z   \n",
       "22                                          Love it!!  2017-11-25T00:00:00Z   \n",
       "23  Be prepared for an early, fairly rapid initial...                  None   \n",
       "24            Great trail to take with amazing views!  2017-11-19T00:00:00Z   \n",
       "25                One if the best hikes in the Hudson  2017-11-11T00:00:00Z   \n",
       "26  Finally tackled the ridge known as Breakneck a...                  None   \n",
       "27  Great trail with amazing views. Can get very c...  2017-11-05T00:00:00Z   \n",
       "28  Really challenging, especially at the beginnin...  2017-11-05T00:00:00Z   \n",
       "29  My first hike in NY. So the trail is awesome, ...  2017-11-05T00:00:00Z   \n",
       "\n",
       "    review_rating   trailId  \n",
       "0               5  10029098  \n",
       "1               5  10029098  \n",
       "2               5  10029098  \n",
       "3               5  10029098  \n",
       "4               5  10029098  \n",
       "5               5  10029098  \n",
       "6               5  10029098  \n",
       "7               3  10029098  \n",
       "8               5  10029098  \n",
       "9               4  10029098  \n",
       "10              4  10029098  \n",
       "11              5  10029098  \n",
       "12              5  10029098  \n",
       "13              4  10029098  \n",
       "14              5  10029098  \n",
       "15              5  10029098  \n",
       "16              5  10029098  \n",
       "17              5  10029098  \n",
       "18              5  10029098  \n",
       "19              4  10029098  \n",
       "20              4  10029098  \n",
       "21              5  10029098  \n",
       "22              5  10029098  \n",
       "23              4  10029098  \n",
       "24              4  10029098  \n",
       "25              5  10029098  \n",
       "26              5  10029098  \n",
       "27              5  10029098  \n",
       "28              5  10029098  \n",
       "29              4  10029098  "
      ]
     },
     "execution_count": 17,
     "metadata": {},
     "output_type": "execute_result"
    }
   ],
   "source": [
    "review_clean"
   ]
  },
  {
   "cell_type": "markdown",
   "metadata": {},
   "source": [
    "### saving the files to csv"
   ]
  },
  {
   "cell_type": "code",
   "execution_count": 18,
   "metadata": {},
   "outputs": [],
   "source": [
    "review_clean.to_csv(\"sample_reviews.csv\", encoding = \"utf-8\")\n",
    "trail_info.to_csv(\"sample_trail.csv\", encoding = \"utf-8\")"
   ]
  },
  {
   "cell_type": "code",
   "execution_count": null,
   "metadata": {},
   "outputs": [],
   "source": []
  },
  {
   "cell_type": "code",
   "execution_count": null,
   "metadata": {},
   "outputs": [],
   "source": []
  },
  {
   "cell_type": "code",
   "execution_count": null,
   "metadata": {},
   "outputs": [],
   "source": []
  },
  {
   "cell_type": "code",
   "execution_count": null,
   "metadata": {},
   "outputs": [],
   "source": []
  },
  {
   "cell_type": "code",
   "execution_count": null,
   "metadata": {},
   "outputs": [],
   "source": []
  }
 ],
 "metadata": {
  "kernelspec": {
   "display_name": "Python 3",
   "language": "python",
   "name": "python3"
  },
  "language_info": {
   "codemirror_mode": {
    "name": "ipython",
    "version": 3
   },
   "file_extension": ".py",
   "mimetype": "text/x-python",
   "name": "python",
   "nbconvert_exporter": "python",
   "pygments_lexer": "ipython3",
   "version": "3.6.2"
  }
 },
 "nbformat": 4,
 "nbformat_minor": 2
}
