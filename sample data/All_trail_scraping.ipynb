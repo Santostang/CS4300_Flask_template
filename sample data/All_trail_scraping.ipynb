{
 "cells": [
  {
   "cell_type": "code",
   "execution_count": 23,
   "metadata": {
    "ExecuteTime": {
     "end_time": "2018-03-25T16:47:13.175757Z",
     "start_time": "2018-03-25T16:47:13.171870Z"
    },
    "collapsed": true
   },
   "outputs": [],
   "source": [
    "import requests\n",
    "import json\n",
    "import time"
   ]
  },
  {
   "cell_type": "code",
   "execution_count": 21,
   "metadata": {
    "ExecuteTime": {
     "end_time": "2018-03-25T16:46:55.323080Z",
     "start_time": "2018-03-25T16:46:55.315788Z"
    }
   },
   "outputs": [],
   "source": [
    "headers = {\n",
    "    'user-agent': 'Mozilla/5.0 (Macintosh; Intel Mac OS X 10_13_3) AppleWebKit/537.36 (KHTML, like Gecko) Chrome/65.0.3325.162 Safari/537.36',\n",
    "    'referer': 'https://www.alltrails.com/us/new-york',\n",
    "    'x-at-key': '3p0t5s6b5g4g0e8k3c1j3w7y5c3m4t8i',\n",
    "    'x-newrelic-id': 'UwAHWVNADAQGU1Nb',\n",
    "    'x-requested-with': 'XMLHttpRequest'\n",
    "}\n",
    "key_dict = {\n",
    "    'page': 1,\n",
    "    'per_page': 24,\n",
    "    'country_id': 313,\n",
    "}"
   ]
  },
  {
   "cell_type": "code",
   "execution_count": 24,
   "metadata": {
    "ExecuteTime": {
     "end_time": "2018-03-25T16:48:11.984642Z",
     "start_time": "2018-03-25T16:47:15.876037Z"
    }
   },
   "outputs": [
    {
     "name": "stdout",
     "output_type": "stream",
     "text": [
      "200\n",
      "200\n",
      "200\n",
      "200\n",
      "200\n",
      "200\n",
      "200\n",
      "200\n",
      "200\n",
      "200\n"
     ]
    }
   ],
   "source": [
    "for i in range(1,11):\n",
    "    key_dict['page'] = i\n",
    "    r = requests.get('https://www.alltrails.com/api/alltrails/locations/states/33/trails', headers=headers, params=key_dict)\n",
    "    print (r.status_code)\n",
    "    \n",
    "    decodejson = json.loads(r.text)\n",
    "    with open(\"page_\" + str(i) +\".json\",\"w\") as f:\n",
    "        json.dump(decodejson,f)\n",
    "    \n",
    "    time.sleep(5)"
   ]
  },
  {
   "cell_type": "code",
   "execution_count": 15,
   "metadata": {
    "ExecuteTime": {
     "end_time": "2018-03-25T16:31:50.370062Z",
     "start_time": "2018-03-25T16:31:50.363378Z"
    }
   },
   "outputs": [],
   "source": [
    "decodejson = json.loads(r.text)\n",
    "with open(\"data.json\",\"w\") as f:\n",
    "    json.dump(decodejson,f)"
   ]
  },
  {
   "cell_type": "code",
   "execution_count": 16,
   "metadata": {
    "ExecuteTime": {
     "end_time": "2018-03-25T16:31:51.414427Z",
     "start_time": "2018-03-25T16:31:51.394038Z"
    }
   },
   "outputs": [],
   "source": []
  },
  {
   "cell_type": "code",
   "execution_count": null,
   "metadata": {
    "collapsed": true
   },
   "outputs": [],
   "source": []
  },
  {
   "cell_type": "code",
   "execution_count": 18,
   "metadata": {
    "ExecuteTime": {
     "end_time": "2018-03-25T16:41:53.591043Z",
     "start_time": "2018-03-25T16:41:52.346492Z"
    }
   },
   "outputs": [
    {
     "name": "stdout",
     "output_type": "stream",
     "text": [
      "200\n"
     ]
    }
   ],
   "source": [
    "headers = {\n",
    "    'user-agent': 'Mozilla/5.0 (Macintosh; Intel Mac OS X 10_13_3) AppleWebKit/537.36 (KHTML, like Gecko) Chrome/65.0.3325.162 Safari/537.36',\n",
    "    'referer': 'https://www.alltrails.com/trail/us/new-york/breakneck-ridge-trail',\n",
    "    'x-at-key': '3p0t5s6b5g4g0e8k3c1j3w7y5c3m4t8i',\n",
    "    'x-newrelic-id': 'UwAHWVNADAQGU1Nb',\n",
    "    'x-requested-with': 'XMLHttpRequest'\n",
    "}\n",
    "key_dict = {\n",
    "    'page': 1,\n",
    "    'per_page': 30,\n",
    "    'sort_option': 'at_sort',\n",
    "}\n",
    "\n",
    "r = requests.get('https://www.alltrails.com/api/alltrails/trails/10029098/reviews', headers=headers, params=key_dict)\n",
    "print (r.status_code)"
   ]
  },
  {
   "cell_type": "code",
   "execution_count": 19,
   "metadata": {
    "ExecuteTime": {
     "end_time": "2018-03-25T16:41:55.141336Z",
     "start_time": "2018-03-25T16:41:55.119546Z"
    },
    "collapsed": true
   },
   "outputs": [],
   "source": [
    "decodejson = json.loads(r.text)\n",
    "with open(\"review.json\",\"w\") as f:\n",
    "    json.dump(decodejson,f)"
   ]
  },
  {
   "cell_type": "code",
   "execution_count": null,
   "metadata": {
    "collapsed": true
   },
   "outputs": [],
   "source": []
  }
 ],
 "metadata": {
  "kernelspec": {
   "display_name": "Python 3",
   "language": "python",
   "name": "python3"
  },
  "language_info": {
   "codemirror_mode": {
    "name": "ipython",
    "version": 3
   },
   "file_extension": ".py",
   "mimetype": "text/x-python",
   "name": "python",
   "nbconvert_exporter": "python",
   "pygments_lexer": "ipython3",
   "version": "3.6.2"
  },
  "toc": {
   "colors": {
    "hover_highlight": "#DAA520",
    "navigate_num": "#000000",
    "navigate_text": "#333333",
    "running_highlight": "#FF0000",
    "selected_highlight": "#FFD700",
    "sidebar_border": "#EEEEEE",
    "wrapper_background": "#FFFFFF"
   },
   "moveMenuLeft": true,
   "nav_menu": {
    "height": "12px",
    "width": "252px"
   },
   "navigate_menu": true,
   "number_sections": true,
   "sideBar": true,
   "threshold": 4,
   "toc_cell": false,
   "toc_section_display": "block",
   "toc_window_display": false,
   "widenNotebook": false
  }
 },
 "nbformat": 4,
 "nbformat_minor": 2
}
